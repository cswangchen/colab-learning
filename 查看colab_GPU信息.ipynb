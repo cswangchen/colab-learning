{
  "nbformat": 4,
  "nbformat_minor": 0,
  "metadata": {
    "colab": {
      "name": "查看colab-GPU信息.ipynb",
      "version": "0.3.2",
      "provenance": [],
      "collapsed_sections": [],
      "include_colab_link": true
    },
    "kernelspec": {
      "name": "python3",
      "display_name": "Python 3"
    },
    "accelerator": "GPU"
  },
  "cells": [
    {
      "cell_type": "markdown",
      "metadata": {
        "id": "view-in-github",
        "colab_type": "text"
      },
      "source": [
        "<a href=\"https://colab.research.google.com/github/cswangchen/colab-learning/blob/master/%E6%9F%A5%E7%9C%8Bcolab_GPU%E4%BF%A1%E6%81%AF.ipynb\" target=\"_parent\"><img src=\"https://colab.research.google.com/assets/colab-badge.svg\" alt=\"Open In Colab\"/></a>"
      ]
    },
    {
      "metadata": {
        "id": "VFrDPTp4C4tn",
        "colab_type": "code",
        "colab": {}
      },
      "cell_type": "code",
      "source": [
        "import tensorflow as tf\n",
        "\n",
        "size = 500\n",
        "W = tf.random_normal([size, size], name='W')\n",
        "X = tf.random_normal([size, size], name='X')\n",
        "mul = tf.matmul(W, X, name='mul')\n",
        "sum_result = tf.reduce_sum(mul, name='sum')\n",
        "\n",
        "tfconfig = tf.ConfigProto(log_device_placement=True)\n",
        "with tf.Session(config=tfconfig) as sess:\n",
        "     result = sess.run(sum_result)"
      ],
      "execution_count": 0,
      "outputs": []
    },
    {
      "metadata": {
        "id": "eyJbRwxbC6TZ",
        "colab_type": "code",
        "colab": {
          "base_uri": "https://localhost:8080/",
          "height": 987
        },
        "outputId": "a92ca19d-397b-4249-8df9-83942655220d"
      },
      "cell_type": "code",
      "source": [
        "import tensorflow as tf\n",
        "import time\n",
        "\n",
        "def performanceTest(device_name,size):\n",
        "    with tf.device(device_name):\n",
        "        W = tf.random_normal([size, size], name='W')\n",
        "        X = tf.random_normal([size, size], name='X')\n",
        "        mul = tf.matmul(W, X, name='mul')\n",
        "        sum_result = tf.reduce_sum(mul, name='sum')\n",
        "    \n",
        "    startTime = time.time()\n",
        "    tfconfig = tf.ConfigProto(log_device_placement=True)\n",
        "    with tf.Session(config=tfconfig) as sess:\n",
        "        result = sess.run(sum_result)\n",
        "        \n",
        "    takeTimes = time.time() - startTime\n",
        "    print(device_name, \"矩阵大小：\",size,\"x\",size, \" 时间:\",takeTimes)\n",
        "    return takeTimes\n",
        "\n",
        "\n",
        "gpu_set = [];cpu_set = [];i_set = []\n",
        "for i in range(0, 10001, 500):\n",
        "    g = performanceTest(\"/gpu:0\",i)\n",
        "    c = performanceTest(\"/cpu:0\",i)\n",
        "    gpu_set.append(g)\n",
        "    cpu_set.append(c)\n",
        "    i_set.append(i)\n",
        "    \n",
        "%matplotlib inline\n",
        "import matplotlib.pyplot as plt\n",
        "fig = plt.gcf()\n",
        "plt.plot(i_set, gpu_set, label='gpu')\n",
        "plt.plot(i_set, cpu_set, label='cpu')\n",
        "plt.legend()"
      ],
      "execution_count": 2,
      "outputs": [
        {
          "output_type": "stream",
          "text": [
            "/gpu:0 矩阵大小： 0 x 0  时间: 0.015099525451660156\n",
            "/cpu:0 矩阵大小： 0 x 0  时间: 0.030559539794921875\n",
            "/gpu:0 矩阵大小： 500 x 500  时间: 0.044699907302856445\n",
            "/cpu:0 矩阵大小： 500 x 500  时间: 0.0674448013305664\n",
            "/gpu:0 矩阵大小： 1000 x 1000  时间: 0.05358004570007324\n",
            "/cpu:0 矩阵大小： 1000 x 1000  时间: 0.15126371383666992\n",
            "/gpu:0 矩阵大小： 1500 x 1500  时间: 0.08785152435302734\n",
            "/cpu:0 矩阵大小： 1500 x 1500  时间: 0.261735200881958\n",
            "/gpu:0 矩阵大小： 2000 x 2000  时间: 0.043401241302490234\n",
            "/cpu:0 矩阵大小： 2000 x 2000  时间: 0.5081934928894043\n",
            "/gpu:0 矩阵大小： 2500 x 2500  时间: 0.05154013633728027\n",
            "/cpu:0 矩阵大小： 2500 x 2500  时间: 0.8546779155731201\n",
            "/gpu:0 矩阵大小： 3000 x 3000  时间: 0.12017989158630371\n",
            "/cpu:0 矩阵大小： 3000 x 3000  时间: 1.249833345413208\n",
            "/gpu:0 矩阵大小： 3500 x 3500  时间: 0.13335919380187988\n",
            "/cpu:0 矩阵大小： 3500 x 3500  时间: 1.8675765991210938\n",
            "/gpu:0 矩阵大小： 4000 x 4000  时间: 0.09919166564941406\n",
            "/cpu:0 矩阵大小： 4000 x 4000  时间: 2.577393054962158\n",
            "/gpu:0 矩阵大小： 4500 x 4500  时间: 0.16095900535583496\n",
            "/cpu:0 矩阵大小： 4500 x 4500  时间: 3.549027919769287\n",
            "/gpu:0 矩阵大小： 5000 x 5000  时间: 0.1651782989501953\n",
            "/cpu:0 矩阵大小： 5000 x 5000  时间: 4.706993579864502\n",
            "/gpu:0 矩阵大小： 5500 x 5500  时间: 0.22884750366210938\n",
            "/cpu:0 矩阵大小： 5500 x 5500  时间: 6.220884084701538\n",
            "/gpu:0 矩阵大小： 6000 x 6000  时间: 0.2875046730041504\n",
            "/cpu:0 矩阵大小： 6000 x 6000  时间: 7.952986001968384\n",
            "/gpu:0 矩阵大小： 6500 x 6500  时间: 0.27724432945251465\n",
            "/cpu:0 矩阵大小： 6500 x 6500  时间: 10.1053786277771\n",
            "/gpu:0 矩阵大小： 7000 x 7000  时间: 0.37862658500671387\n",
            "/cpu:0 矩阵大小： 7000 x 7000  时间: 12.46126413345337\n",
            "/gpu:0 矩阵大小： 7500 x 7500  时间: 0.48117828369140625\n",
            "/cpu:0 矩阵大小： 7500 x 7500  时间: 15.23755693435669\n",
            "/gpu:0 矩阵大小： 8000 x 8000  时间: 0.57025146484375\n",
            "/cpu:0 矩阵大小： 8000 x 8000  时间: 18.409983158111572\n",
            "/gpu:0 矩阵大小： 8500 x 8500  时间: 0.7364528179168701\n",
            "/cpu:0 矩阵大小： 8500 x 8500  时间: 22.317723751068115\n",
            "/gpu:0 矩阵大小： 9000 x 9000  时间: 0.8659985065460205\n",
            "/cpu:0 矩阵大小： 9000 x 9000  时间: 26.771067142486572\n",
            "/gpu:0 矩阵大小： 9500 x 9500  时间: 1.0310802459716797\n",
            "/cpu:0 矩阵大小： 9500 x 9500  时间: 31.32590103149414\n",
            "/gpu:0 矩阵大小： 10000 x 10000  时间: 1.107832431793213\n",
            "/cpu:0 矩阵大小： 10000 x 10000  时间: 36.03018140792847\n"
          ],
          "name": "stdout"
        },
        {
          "output_type": "execute_result",
          "data": {
            "text/plain": [
              "<matplotlib.legend.Legend at 0x7f2705af7d30>"
            ]
          },
          "metadata": {
            "tags": []
          },
          "execution_count": 2
        },
        {
          "output_type": "display_data",
          "data": {
            "image/png": "[encoded data removed]",
            "text/plain": [
              "<Figure size 432x288 with 1 Axes>"
            ]
          },
          "metadata": {
            "tags": []
          }
        }
      ]
    },
    {
      "metadata": {
        "id": "GJHC-BsvDSi9",
        "colab_type": "code",
        "colab": {
          "base_uri": "https://localhost:8080/",
          "height": 286
        },
        "outputId": "19a2b1ed-5cb0-4fcc-ac39-2b8d5d651d14"
      },
      "cell_type": "code",
      "source": [
        "!/opt/bin/nvidia-smi"
      ],
      "execution_count": 3,
      "outputs": [
        {
          "output_type": "stream",
          "text": [
            "Sat Mar  2 06:23:51 2019       \n",
            "+-----------------------------------------------------------------------------+\n",
            "| NVIDIA-SMI 410.79       Driver Version: 410.79       CUDA Version: 10.0     |\n",
            "|-------------------------------+----------------------+----------------------+\n",
            "| GPU  Name        Persistence-M| Bus-Id        Disp.A | Volatile Uncorr. ECC |\n",
            "| Fan  Temp  Perf  Pwr:Usage/Cap|         Memory-Usage | GPU-Util  Compute M. |\n",
            "|===============================+======================+======================|\n",
            "|   0  Tesla K80           Off  | 00000000:00:04.0 Off |                    0 |\n",
            "| N/A   46C    P0    61W / 149W |   2191MiB / 11441MiB |      0%      Default |\n",
            "+-------------------------------+----------------------+----------------------+\n",
            "                                                                               \n",
            "+-----------------------------------------------------------------------------+\n",
            "| Processes:                                                       GPU Memory |\n",
            "|  GPU       PID   Type   Process name                             Usage      |\n",
            "|=============================================================================|\n",
            "+-----------------------------------------------------------------------------+\n"
          ],
          "name": "stdout"
        }
      ]
    },
    {
      "metadata": {
        "id": "Y7Izh7O_DHr0",
        "colab_type": "code",
        "colab": {
          "base_uri": "https://localhost:8080/",
          "height": 470
        },
        "outputId": "468b5182-a536-40fa-9b78-e613e2ea29ad"
      },
      "cell_type": "code",
      "source": [
        "from tensorflow.python.client import device_lib\n",
        "device_lib.list_local_devices()"
      ],
      "execution_count": 4,
      "outputs": [
        {
          "output_type": "execute_result",
          "data": {
            "text/plain": [
              "[name: \"/device:CPU:0\"\n",
              " device_type: \"CPU\"\n",
              " memory_limit: 268435456\n",
              " locality {\n",
              " }\n",
              " incarnation: 2407593701605258213, name: \"/device:XLA_CPU:0\"\n",
              " device_type: \"XLA_CPU\"\n",
              " memory_limit: 17179869184\n",
              " locality {\n",
              " }\n",
              " incarnation: 2989132355073120295\n",
              " physical_device_desc: \"device: XLA_CPU device\", name: \"/device:XLA_GPU:0\"\n",
              " device_type: \"XLA_GPU\"\n",
              " memory_limit: 17179869184\n",
              " locality {\n",
              " }\n",
              " incarnation: 14844254296947016797\n",
              " physical_device_desc: \"device: XLA_GPU device\", name: \"/device:GPU:0\"\n",
              " device_type: \"GPU\"\n",
              " memory_limit: 11276946637\n",
              " locality {\n",
              "   bus_id: 1\n",
              "   links {\n",
              "   }\n",
              " }\n",
              " incarnation: 13718051038425570430\n",
              " physical_device_desc: \"device: 0, name: Tesla K80, pci bus id: 0000:00:04.0, compute capability: 3.7\"]"
            ]
          },
          "metadata": {
            "tags": []
          },
          "execution_count": 4
        }
      ]
    },
    {
      "metadata": {
        "id": "SUUmRTnEGJUf",
        "colab_type": "code",
        "colab": {}
      },
      "cell_type": "code",
      "source": [
        ""
      ],
      "execution_count": 0,
      "outputs": []
    }
  ]
}